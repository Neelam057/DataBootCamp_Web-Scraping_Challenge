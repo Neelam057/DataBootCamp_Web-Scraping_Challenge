{
 "cells": [
  {
   "attachments": {},
   "cell_type": "markdown",
   "metadata": {},
   "source": [
    "# Module 11 Challenge\n",
    "## Deliverable 1: Scrape Titles and Preview Text from Mars News"
   ]
  },
  {
   "cell_type": "code",
   "execution_count": 2,
   "metadata": {},
   "outputs": [],
   "source": [
    "# Import Splinter and BeautifulSoup\n",
    "from splinter import Browser\n",
    "from selenium.webdriver.chrome.service import Service\n",
    "from webdriver_manager.chrome import ChromeDriverManager\n",
    "\n",
    "# parsing\n",
    "from bs4 import BeautifulSoup\n",
    "\n",
    "# data science\n",
    "import pandas as pd\n"
   ]
  },
  {
   "cell_type": "code",
   "execution_count": 4,
   "metadata": {
    "scrolled": true
   },
   "outputs": [],
   "source": [
    "# Open a Chrome window using Splinter\n",
    "my_service = Service(executable_path=ChromeDriverManager().install())\n",
    "browser = Browser('chrome', service=my_service)"
   ]
  },
  {
   "attachments": {},
   "cell_type": "markdown",
   "metadata": {},
   "source": [
    "### Step 1: Visit the Website\n",
    "\n",
    "1. Use automated browsing to visit the [Mars news site](https://static.bc-edx.com/data/web/mars_news/index.html). Inspect the page to identify which elements to scrape.\n",
    "\n",
    "      > **Hint** To identify which elements to scrape, you might want to inspect the page by using Chrome DevTools."
   ]
  },
  {
   "cell_type": "code",
   "execution_count": 7,
   "metadata": {},
   "outputs": [],
   "source": [
    "# Visit the Mars news site\n",
    "url = 'https://static.bc-edx.com/data/web/mars_news/index.html'\n",
    "browser.visit(url)"
   ]
  },
  {
   "attachments": {},
   "cell_type": "markdown",
   "metadata": {},
   "source": [
    "### Step 2: Scrape the Website\n",
    "\n",
    "Create a Beautiful Soup object and use it to extract text elements from the website."
   ]
  },
  {
   "cell_type": "code",
   "execution_count": 9,
   "metadata": {},
   "outputs": [],
   "source": [
    "# Save the HTML from the browser\n",
    "html = browser.html\n",
    "\n",
    "# Create a Beautiful Soup object\n",
    "soup = BeautifulSoup(html, 'html.parser')"
   ]
  },
  {
   "cell_type": "code",
   "execution_count": 12,
   "metadata": {},
   "outputs": [
    {
     "name": "stdout",
     "output_type": "stream",
     "text": [
      "15\n",
      "NASA's MAVEN Observes Martian Light Show Caused by Major Solar Storm\n",
      "NASA Prepares to Say 'Farewell' to InSight Spacecraft\n",
      "NASA and ESA Agree on Next Steps to Return Mars Samples to Earth\n",
      "NASA's InSight Lander Detects Stunning Meteoroid Impact on Mars\n",
      "NASA To Host Briefing on InSight, Mars Reconnaissance Orbiter Findings\n",
      "Why NASA Is Trying To Crash Land on Mars\n",
      "Curiosity Mars Rover Reaches Long-Awaited Salty Region\n",
      "Mars Mission Shields Up for Tests\n",
      "NASA's InSight Waits Out Dust Storm\n",
      "NASA's InSight 'Hears' Its First Meteoroid Impacts on Mars\n",
      "NASA's Perseverance Rover Investigates Geologically Rich Mars Terrain\n",
      "NASA to Host Briefing on Perseverance Mars Rover Mission Operations\n",
      "NASA's Perseverance Makes New Discoveries in Mars' Jezero Crater\n",
      "10 Years Since Landing, NASA's Curiosity Mars Rover Still Has Drive\n",
      "SAM's Top 5 Discoveries Aboard NASA's Curiosity Rover at Mars\n",
      "For the first time in its eight years orbiting Mars, NASA’s MAVEN mission witnessed two different types of ultraviolet aurorae simultaneously, the result of solar storms that began on Aug. 27.\n",
      "A closer look at what goes into wrapping up the mission as the spacecraft’s power supply continues to dwindle.\n",
      "The agency’s Perseverance rover will establish the first sample depot on Mars.\n",
      "The agency’s lander felt the ground shake during the impact while cameras aboard the Mars Reconnaissance Orbiter spotted the yawning new crater from space.\n",
      "Scientists from two Mars missions will discuss how they combined images and data for a major finding on the Red Planet.\n",
      "Like a car’s crumple zone, the experimental SHIELD lander is designed to absorb a hard impact.\n",
      "After years of climbing, the Mars rover has arrived at a special region believed to have formed as Mars’ climate was drying.\n",
      "Protecting Mars Sample Return spacecraft from micrometeorites requires high-caliber work.\n",
      "InSight’s team is taking steps to help the solar-powered lander continue operating for as long as possible.\n",
      "The Mars lander’s seismometer has picked up vibrations from four separate impacts in the past two years.\n",
      "The latest findings provide greater detail on a region of the Red Planet that has a watery past and is yielding promising samples for the NASA-ESA Mars Sample Return campaign.\n",
      "Members of the mission will discuss the rover’s activities as it gathers samples in an ancient river delta.\n",
      "The rover found that Jezero Crater’s floor is made up of volcanic rocks that have interacted with water.\n",
      "Despite signs of wear, the intrepid spacecraft is about to start an exciting new chapter of its mission as it climbs a Martian mountain.\n",
      "“Selfie” of the Curiosity rover with inset showing the SAM instrument prior to installation on the rover.\n"
     ]
    }
   ],
   "source": [
    "# Extract all the text elements\n",
    "parent_container = soup.find(\"div\", {\"id\":\"news\"})\n",
    "\n",
    "news_articles = parent_container.find_all(\"div\", {\"class\":\"content_title\"})\n",
    "teasers = parent_container.find_all(\"div\", {\"class\":\"article_teaser_body\"})\n",
    "\n",
    "print(len(news_articles))\n",
    "\n",
    "for article in news_articles:\n",
    "    print(article.text)\n",
    "\n",
    "for teaser in teasers:\n",
    "    print(teaser.text)\n"
   ]
  },
  {
   "attachments": {},
   "cell_type": "markdown",
   "metadata": {},
   "source": [
    "### Step 3: Store the Results\n",
    "\n",
    "Extract the titles and preview text of the news articles that you scraped. Store the scraping results in Python data structures as follows:\n",
    "\n",
    "* Store each title-and-preview pair in a Python dictionary. And, give each dictionary two keys: `title` and `preview`. An example is the following:\n",
    "\n",
    "  ```python\n",
    "  {'title': \"NASA's MAVEN Observes Martian Light Show Caused by Major Solar Storm\", \n",
    "   'preview': \"For the first time in its eight years orbiting Mars, NASA’s MAVEN mission witnessed two different types of ultraviolet aurorae simultaneously, the result of solar storms that began on Aug. 27.\"\n",
    "  }\n",
    "  ```\n",
    "\n",
    "* Store all the dictionaries in a Python list.\n",
    "\n",
    "* Print the list in your notebook."
   ]
  },
  {
   "cell_type": "code",
   "execution_count": 15,
   "metadata": {},
   "outputs": [
    {
     "data": {
      "text/plain": [
       "[<div class=\"row\">\n",
       " <div class=\"col-md-4\">\n",
       " <div class=\"list_image\">\n",
       " <img src=\"images/9299_maven-vertical-limb-320x240.jpeg\"/>\n",
       " </div>\n",
       " </div>\n",
       " <div class=\"col-md-8\">\n",
       " <div class=\"list_text\">\n",
       " <div class=\"list_date\">November 9, 2022</div>\n",
       " <div class=\"content_title\">NASA's MAVEN Observes Martian Light Show Caused by Major Solar Storm</div>\n",
       " <div class=\"article_teaser_body\">For the first time in its eight years orbiting Mars, NASA’s MAVEN mission witnessed two different types of ultraviolet aurorae simultaneously, the result of solar storms that began on Aug. 27.</div>\n",
       " </div>\n",
       " </div>\n",
       " </div>,\n",
       " <div class=\"row\">\n",
       " <div class=\"col-md-4\">\n",
       " <div class=\"list_image\">\n",
       " <img src=\"images/9292_PIA25287-320x240.jpeg\"/>\n",
       " </div>\n",
       " </div>\n",
       " <div class=\"col-md-8\">\n",
       " <div class=\"list_text\">\n",
       " <div class=\"list_date\">November 1, 2022</div>\n",
       " <div class=\"content_title\">NASA Prepares to Say 'Farewell' to InSight Spacecraft</div>\n",
       " <div class=\"article_teaser_body\">A closer look at what goes into wrapping up the mission as the spacecraft’s power supply continues to dwindle.</div>\n",
       " </div>\n",
       " </div>\n",
       " </div>,\n",
       " <div class=\"row\">\n",
       " <div class=\"col-md-4\">\n",
       " <div class=\"list_image\">\n",
       " <img src=\"images/9286_PIA25243-320x240.jpeg\"/>\n",
       " </div>\n",
       " </div>\n",
       " <div class=\"col-md-8\">\n",
       " <div class=\"list_text\">\n",
       " <div class=\"list_date\">October 28, 2022</div>\n",
       " <div class=\"content_title\">NASA and ESA Agree on Next Steps to Return Mars Samples to Earth</div>\n",
       " <div class=\"article_teaser_body\">The agency’s Perseverance rover will establish the first sample depot on Mars.</div>\n",
       " </div>\n",
       " </div>\n",
       " </div>,\n",
       " <div class=\"row\">\n",
       " <div class=\"col-md-4\">\n",
       " <div class=\"list_image\">\n",
       " <img src=\"images/9289_1-PIA25583320x240.jpeg\"/>\n",
       " </div>\n",
       " </div>\n",
       " <div class=\"col-md-8\">\n",
       " <div class=\"list_text\">\n",
       " <div class=\"list_date\">October 27, 2022</div>\n",
       " <div class=\"content_title\">NASA's InSight Lander Detects Stunning Meteoroid Impact on Mars</div>\n",
       " <div class=\"article_teaser_body\">The agency’s lander felt the ground shake during the impact while cameras aboard the Mars Reconnaissance Orbiter spotted the yawning new crater from space.</div>\n",
       " </div>\n",
       " </div>\n",
       " </div>,\n",
       " <div class=\"row\">\n",
       " <div class=\"col-md-4\">\n",
       " <div class=\"list_image\">\n",
       " <img src=\"images/9284_1-PIA25287-320x240.jpeg\"/>\n",
       " </div>\n",
       " </div>\n",
       " <div class=\"col-md-8\">\n",
       " <div class=\"list_text\">\n",
       " <div class=\"list_date\">October 21, 2022</div>\n",
       " <div class=\"content_title\">NASA To Host Briefing on InSight, Mars Reconnaissance Orbiter Findings</div>\n",
       " <div class=\"article_teaser_body\">Scientists from two Mars missions will discuss how they combined images and data for a major finding on the Red Planet.</div>\n",
       " </div>\n",
       " </div>\n",
       " </div>,\n",
       " <div class=\"row\">\n",
       " <div class=\"col-md-4\">\n",
       " <div class=\"list_image\">\n",
       " <img src=\"images/9283_1-Illustration-of-SHIELD-320x240.jpeg\"/>\n",
       " </div>\n",
       " </div>\n",
       " <div class=\"col-md-8\">\n",
       " <div class=\"list_text\">\n",
       " <div class=\"list_date\">October 20, 2022</div>\n",
       " <div class=\"content_title\">Why NASA Is Trying To Crash Land on Mars</div>\n",
       " <div class=\"article_teaser_body\">Like a car’s crumple zone, the experimental SHIELD lander is designed to absorb a hard impact.</div>\n",
       " </div>\n",
       " </div>\n",
       " </div>,\n",
       " <div class=\"row\">\n",
       " <div class=\"col-md-4\">\n",
       " <div class=\"list_image\">\n",
       " <img src=\"images/9281_1-PIA25413-320x240.jpeg\"/>\n",
       " </div>\n",
       " </div>\n",
       " <div class=\"col-md-8\">\n",
       " <div class=\"list_text\">\n",
       " <div class=\"list_date\">October 19, 2022</div>\n",
       " <div class=\"content_title\">Curiosity Mars Rover Reaches Long-Awaited Salty Region</div>\n",
       " <div class=\"article_teaser_body\">After years of climbing, the Mars rover has arrived at a special region believed to have formed as Mars’ climate was drying.</div>\n",
       " </div>\n",
       " </div>\n",
       " </div>,\n",
       " <div class=\"row\">\n",
       " <div class=\"col-md-4\">\n",
       " <div class=\"list_image\">\n",
       " <img src=\"images/9276_PIA25337-320x240.jpeg\"/>\n",
       " </div>\n",
       " </div>\n",
       " <div class=\"col-md-8\">\n",
       " <div class=\"list_text\">\n",
       " <div class=\"list_date\">October 12, 2022</div>\n",
       " <div class=\"content_title\">Mars Mission Shields Up for Tests</div>\n",
       " <div class=\"article_teaser_body\">Protecting Mars Sample Return spacecraft from micrometeorites requires high-caliber work.</div>\n",
       " </div>\n",
       " </div>\n",
       " </div>,\n",
       " <div class=\"row\">\n",
       " <div class=\"col-md-4\">\n",
       " <div class=\"list_image\">\n",
       " <img src=\"images/9275_PIA25287-clean320x240.jpeg\"/>\n",
       " </div>\n",
       " </div>\n",
       " <div class=\"col-md-8\">\n",
       " <div class=\"list_text\">\n",
       " <div class=\"list_date\">October 7, 2022</div>\n",
       " <div class=\"content_title\">NASA's InSight Waits Out Dust Storm</div>\n",
       " <div class=\"article_teaser_body\">InSight’s team is taking steps to help the solar-powered lander continue operating for as long as possible.</div>\n",
       " </div>\n",
       " </div>\n",
       " </div>,\n",
       " <div class=\"row\">\n",
       " <div class=\"col-md-4\">\n",
       " <div class=\"list_image\">\n",
       " <img src=\"images/9264_1-PIA25408-320x240.jpeg\"/>\n",
       " </div>\n",
       " </div>\n",
       " <div class=\"col-md-8\">\n",
       " <div class=\"list_text\">\n",
       " <div class=\"list_date\">September 19, 2022</div>\n",
       " <div class=\"content_title\">NASA's InSight 'Hears' Its First Meteoroid Impacts on Mars</div>\n",
       " <div class=\"article_teaser_body\">The Mars lander’s seismometer has picked up vibrations from four separate impacts in the past two years.</div>\n",
       " </div>\n",
       " </div>\n",
       " </div>,\n",
       " <div class=\"row\">\n",
       " <div class=\"col-md-4\">\n",
       " <div class=\"list_image\">\n",
       " <img src=\"images/9261_26987_PIA24925_MAIN-320x240.jpeg\"/>\n",
       " </div>\n",
       " </div>\n",
       " <div class=\"col-md-8\">\n",
       " <div class=\"list_text\">\n",
       " <div class=\"list_date\">September 15, 2022</div>\n",
       " <div class=\"content_title\">NASA's Perseverance Rover Investigates Geologically Rich Mars Terrain</div>\n",
       " <div class=\"article_teaser_body\">The latest findings provide greater detail on a region of the Red Planet that has a watery past and is yielding promising samples for the NASA-ESA Mars Sample Return campaign.</div>\n",
       " </div>\n",
       " </div>\n",
       " </div>,\n",
       " <div class=\"row\">\n",
       " <div class=\"col-md-4\">\n",
       " <div class=\"list_image\">\n",
       " <img src=\"images/9257_PIA25325-320x240.jpeg\"/>\n",
       " </div>\n",
       " </div>\n",
       " <div class=\"col-md-8\">\n",
       " <div class=\"list_text\">\n",
       " <div class=\"list_date\">September 12, 2022</div>\n",
       " <div class=\"content_title\">NASA to Host Briefing on Perseverance Mars Rover Mission Operations</div>\n",
       " <div class=\"article_teaser_body\">Members of the mission will discuss the rover’s activities as it gathers samples in an ancient river delta.</div>\n",
       " </div>\n",
       " </div>\n",
       " </div>,\n",
       " <div class=\"row\">\n",
       " <div class=\"col-md-4\">\n",
       " <div class=\"list_image\">\n",
       " <img src=\"images/9252_1-PIA24836_Perseverance_Selfie_at_Rochette-320x240.jpeg\"/>\n",
       " </div>\n",
       " </div>\n",
       " <div class=\"col-md-8\">\n",
       " <div class=\"list_text\">\n",
       " <div class=\"list_date\">August 25, 2022</div>\n",
       " <div class=\"content_title\">NASA's Perseverance Makes New Discoveries in Mars' Jezero Crater</div>\n",
       " <div class=\"article_teaser_body\">The rover found that Jezero Crater’s floor is made up of volcanic rocks that have interacted with water.</div>\n",
       " </div>\n",
       " </div>\n",
       " </div>,\n",
       " <div class=\"row\">\n",
       " <div class=\"col-md-4\">\n",
       " <div class=\"list_image\">\n",
       " <img src=\"images/9240_1-PIA25407-Curiositys-360-Degree-Panorama-of-Avanaro-320x240.jpeg\"/>\n",
       " </div>\n",
       " </div>\n",
       " <div class=\"col-md-8\">\n",
       " <div class=\"list_text\">\n",
       " <div class=\"list_date\">August 5, 2022</div>\n",
       " <div class=\"content_title\">10 Years Since Landing, NASA's Curiosity Mars Rover Still Has Drive</div>\n",
       " <div class=\"article_teaser_body\">Despite signs of wear, the intrepid spacecraft is about to start an exciting new chapter of its mission as it climbs a Martian mountain.</div>\n",
       " </div>\n",
       " </div>\n",
       " </div>,\n",
       " <div class=\"row\">\n",
       " <div class=\"col-md-4\">\n",
       " <div class=\"list_image\">\n",
       " <img src=\"images/9239_article_pictures2_jpeg-320x240.jpeg\"/>\n",
       " </div>\n",
       " </div>\n",
       " <div class=\"col-md-8\">\n",
       " <div class=\"list_text\">\n",
       " <div class=\"list_date\">August 4, 2022</div>\n",
       " <div class=\"content_title\">SAM's Top 5 Discoveries Aboard NASA's Curiosity Rover at Mars</div>\n",
       " <div class=\"article_teaser_body\">“Selfie” of the Curiosity rover with inset showing the SAM instrument prior to installation on the rover.</div>\n",
       " </div>\n",
       " </div>\n",
       " </div>]"
      ]
     },
     "execution_count": 15,
     "metadata": {},
     "output_type": "execute_result"
    }
   ],
   "source": [
    "articles = parent_container.find_all(\"div\", {\"class\":\"row\"})\n",
    "articles"
   ]
  },
  {
   "cell_type": "code",
   "execution_count": 17,
   "metadata": {},
   "outputs": [
    {
     "data": {
      "text/plain": [
       "<div class=\"row\">\n",
       "<div class=\"col-md-4\">\n",
       "<div class=\"list_image\">\n",
       "<img src=\"images/9299_maven-vertical-limb-320x240.jpeg\"/>\n",
       "</div>\n",
       "</div>\n",
       "<div class=\"col-md-8\">\n",
       "<div class=\"list_text\">\n",
       "<div class=\"list_date\">November 9, 2022</div>\n",
       "<div class=\"content_title\">NASA's MAVEN Observes Martian Light Show Caused by Major Solar Storm</div>\n",
       "<div class=\"article_teaser_body\">For the first time in its eight years orbiting Mars, NASA’s MAVEN mission witnessed two different types of ultraviolet aurorae simultaneously, the result of solar storms that began on Aug. 27.</div>\n",
       "</div>\n",
       "</div>\n",
       "</div>"
      ]
     },
     "execution_count": 17,
     "metadata": {},
     "output_type": "execute_result"
    }
   ],
   "source": [
    "article =articles[0]\n",
    "article"
   ]
  },
  {
   "cell_type": "code",
   "execution_count": 19,
   "metadata": {},
   "outputs": [
    {
     "data": {
      "text/plain": [
       "\"NASA's MAVEN Observes Martian Light Show Caused by Major Solar Storm\""
      ]
     },
     "execution_count": 19,
     "metadata": {},
     "output_type": "execute_result"
    }
   ],
   "source": [
    "title = article.find(\"div\", {\"class\":\"content_title\"}).text\n",
    "title"
   ]
  },
  {
   "cell_type": "code",
   "execution_count": 21,
   "metadata": {},
   "outputs": [
    {
     "data": {
      "text/plain": [
       "'https://static.bc-edx.com/data/web/mars_news/images/9299_maven-vertical-limb-320x240.jpeg'"
      ]
     },
     "execution_count": 21,
     "metadata": {},
     "output_type": "execute_result"
    }
   ],
   "source": [
    "image = \"https://static.bc-edx.com/data/web/mars_news/\" + article.find(\"div\",{\"class\": \"list_image\"}).find(\"img\")[\"src\"]\n",
    "image"
   ]
  },
  {
   "cell_type": "code",
   "execution_count": 23,
   "metadata": {},
   "outputs": [
    {
     "data": {
      "text/plain": [
       "'For the first time in its eight years orbiting Mars, NASA’s MAVEN mission witnessed two different types of ultraviolet aurorae simultaneously, the result of solar storms that began on Aug. 27.'"
      ]
     },
     "execution_count": 23,
     "metadata": {},
     "output_type": "execute_result"
    }
   ],
   "source": [
    "excerpt = article.find(\"div\", {\"class\":\"article_teaser_body\"}).text\n",
    "excerpt"
   ]
  },
  {
   "cell_type": "code",
   "execution_count": 25,
   "metadata": {},
   "outputs": [
    {
     "data": {
      "text/plain": [
       "'November 9, 2022'"
      ]
     },
     "execution_count": 25,
     "metadata": {},
     "output_type": "execute_result"
    }
   ],
   "source": [
    "date = article.find(\"div\", {\"class\":\"list_date\"}).text\n",
    "date"
   ]
  },
  {
   "cell_type": "code",
   "execution_count": 27,
   "metadata": {},
   "outputs": [],
   "source": [
    "# Create an empty list to store the dictionaries\n",
    "rows = []\n",
    "\n",
    "# Loop through the text elements\n",
    "for article in articles:\n",
    "    \n",
    "    # Extract the title and preview text from the elements\n",
    "    title = article.find(\"div\", {\"class\":\"content_title\"}).text\n",
    "    image = \"https://static.bc-edx.com/data/web/mars_news/\" + article.find(\"div\",{\"class\": \"list_image\"}).find(\"img\")[\"src\"]\n",
    "    excerpt = article.find(\"div\", {\"class\":\"article_teaser_body\"}).text\n",
    "    date = article.find(\"div\", {\"class\":\"list_date\"}).text\n",
    "    \n",
    "    # Store each title and preview pair in a dictionary\n",
    "    row = {\n",
    "            \"title\" : title,\n",
    "            \"image\" :image,\n",
    "            \"excerpt\" : excerpt,\n",
    "            \"date\" :date\n",
    "          }\n",
    "    \n",
    "    # Add the dictionary to the list\n",
    "    rows.append(row)\n"
   ]
  },
  {
   "cell_type": "code",
   "execution_count": 29,
   "metadata": {},
   "outputs": [
    {
     "name": "stdout",
     "output_type": "stream",
     "text": [
      "title: NASA's MAVEN Observes Martian Light Show Caused by Major Solar Storm\n",
      "image: https://static.bc-edx.com/data/web/mars_news/images/9299_maven-vertical-limb-320x240.jpeg\n",
      "excerpt: For the first time in its eight years orbiting Mars, NASA’s MAVEN mission witnessed two different types of ultraviolet aurorae simultaneously, the result of solar storms that began on Aug. 27.\n",
      "date: November 9, 2022\n",
      "title: NASA Prepares to Say 'Farewell' to InSight Spacecraft\n",
      "image: https://static.bc-edx.com/data/web/mars_news/images/9292_PIA25287-320x240.jpeg\n",
      "excerpt: A closer look at what goes into wrapping up the mission as the spacecraft’s power supply continues to dwindle.\n",
      "date: November 1, 2022\n",
      "title: NASA and ESA Agree on Next Steps to Return Mars Samples to Earth\n",
      "image: https://static.bc-edx.com/data/web/mars_news/images/9286_PIA25243-320x240.jpeg\n",
      "excerpt: The agency’s Perseverance rover will establish the first sample depot on Mars.\n",
      "date: October 28, 2022\n",
      "title: NASA's InSight Lander Detects Stunning Meteoroid Impact on Mars\n",
      "image: https://static.bc-edx.com/data/web/mars_news/images/9289_1-PIA25583320x240.jpeg\n",
      "excerpt: The agency’s lander felt the ground shake during the impact while cameras aboard the Mars Reconnaissance Orbiter spotted the yawning new crater from space.\n",
      "date: October 27, 2022\n",
      "title: NASA To Host Briefing on InSight, Mars Reconnaissance Orbiter Findings\n",
      "image: https://static.bc-edx.com/data/web/mars_news/images/9284_1-PIA25287-320x240.jpeg\n",
      "excerpt: Scientists from two Mars missions will discuss how they combined images and data for a major finding on the Red Planet.\n",
      "date: October 21, 2022\n",
      "title: Why NASA Is Trying To Crash Land on Mars\n",
      "image: https://static.bc-edx.com/data/web/mars_news/images/9283_1-Illustration-of-SHIELD-320x240.jpeg\n",
      "excerpt: Like a car’s crumple zone, the experimental SHIELD lander is designed to absorb a hard impact.\n",
      "date: October 20, 2022\n",
      "title: Curiosity Mars Rover Reaches Long-Awaited Salty Region\n",
      "image: https://static.bc-edx.com/data/web/mars_news/images/9281_1-PIA25413-320x240.jpeg\n",
      "excerpt: After years of climbing, the Mars rover has arrived at a special region believed to have formed as Mars’ climate was drying.\n",
      "date: October 19, 2022\n",
      "title: Mars Mission Shields Up for Tests\n",
      "image: https://static.bc-edx.com/data/web/mars_news/images/9276_PIA25337-320x240.jpeg\n",
      "excerpt: Protecting Mars Sample Return spacecraft from micrometeorites requires high-caliber work.\n",
      "date: October 12, 2022\n",
      "title: NASA's InSight Waits Out Dust Storm\n",
      "image: https://static.bc-edx.com/data/web/mars_news/images/9275_PIA25287-clean320x240.jpeg\n",
      "excerpt: InSight’s team is taking steps to help the solar-powered lander continue operating for as long as possible.\n",
      "date: October 7, 2022\n",
      "title: NASA's InSight 'Hears' Its First Meteoroid Impacts on Mars\n",
      "image: https://static.bc-edx.com/data/web/mars_news/images/9264_1-PIA25408-320x240.jpeg\n",
      "excerpt: The Mars lander’s seismometer has picked up vibrations from four separate impacts in the past two years.\n",
      "date: September 19, 2022\n",
      "title: NASA's Perseverance Rover Investigates Geologically Rich Mars Terrain\n",
      "image: https://static.bc-edx.com/data/web/mars_news/images/9261_26987_PIA24925_MAIN-320x240.jpeg\n",
      "excerpt: The latest findings provide greater detail on a region of the Red Planet that has a watery past and is yielding promising samples for the NASA-ESA Mars Sample Return campaign.\n",
      "date: September 15, 2022\n",
      "title: NASA to Host Briefing on Perseverance Mars Rover Mission Operations\n",
      "image: https://static.bc-edx.com/data/web/mars_news/images/9257_PIA25325-320x240.jpeg\n",
      "excerpt: Members of the mission will discuss the rover’s activities as it gathers samples in an ancient river delta.\n",
      "date: September 12, 2022\n",
      "title: NASA's Perseverance Makes New Discoveries in Mars' Jezero Crater\n",
      "image: https://static.bc-edx.com/data/web/mars_news/images/9252_1-PIA24836_Perseverance_Selfie_at_Rochette-320x240.jpeg\n",
      "excerpt: The rover found that Jezero Crater’s floor is made up of volcanic rocks that have interacted with water.\n",
      "date: August 25, 2022\n",
      "title: 10 Years Since Landing, NASA's Curiosity Mars Rover Still Has Drive\n",
      "image: https://static.bc-edx.com/data/web/mars_news/images/9240_1-PIA25407-Curiositys-360-Degree-Panorama-of-Avanaro-320x240.jpeg\n",
      "excerpt: Despite signs of wear, the intrepid spacecraft is about to start an exciting new chapter of its mission as it climbs a Martian mountain.\n",
      "date: August 5, 2022\n",
      "title: SAM's Top 5 Discoveries Aboard NASA's Curiosity Rover at Mars\n",
      "image: https://static.bc-edx.com/data/web/mars_news/images/9239_article_pictures2_jpeg-320x240.jpeg\n",
      "excerpt: “Selfie” of the Curiosity rover with inset showing the SAM instrument prior to installation on the rover.\n",
      "date: August 4, 2022\n"
     ]
    }
   ],
   "source": [
    "# Print the list to confirm success\n",
    "for row in rows:\n",
    "    print(f\"title: {row['title']}\")\n",
    "    print(f\"image: {row['image']}\")\n",
    "    print(f\"excerpt: {row['excerpt']}\")\n",
    "    print(f\"date: {row['date']}\")"
   ]
  },
  {
   "cell_type": "code",
   "execution_count": 31,
   "metadata": {},
   "outputs": [
    {
     "data": {
      "text/html": [
       "<div>\n",
       "<style scoped>\n",
       "    .dataframe tbody tr th:only-of-type {\n",
       "        vertical-align: middle;\n",
       "    }\n",
       "\n",
       "    .dataframe tbody tr th {\n",
       "        vertical-align: top;\n",
       "    }\n",
       "\n",
       "    .dataframe thead th {\n",
       "        text-align: right;\n",
       "    }\n",
       "</style>\n",
       "<table border=\"1\" class=\"dataframe\">\n",
       "  <thead>\n",
       "    <tr style=\"text-align: right;\">\n",
       "      <th></th>\n",
       "      <th>title</th>\n",
       "      <th>image</th>\n",
       "      <th>excerpt</th>\n",
       "      <th>date</th>\n",
       "    </tr>\n",
       "  </thead>\n",
       "  <tbody>\n",
       "    <tr>\n",
       "      <th>0</th>\n",
       "      <td>NASA's MAVEN Observes Martian Light Show Cause...</td>\n",
       "      <td>https://static.bc-edx.com/data/web/mars_news/i...</td>\n",
       "      <td>For the first time in its eight years orbiting...</td>\n",
       "      <td>2022-11-09</td>\n",
       "    </tr>\n",
       "    <tr>\n",
       "      <th>1</th>\n",
       "      <td>NASA Prepares to Say 'Farewell' to InSight Spa...</td>\n",
       "      <td>https://static.bc-edx.com/data/web/mars_news/i...</td>\n",
       "      <td>A closer look at what goes into wrapping up th...</td>\n",
       "      <td>2022-11-01</td>\n",
       "    </tr>\n",
       "    <tr>\n",
       "      <th>2</th>\n",
       "      <td>NASA and ESA Agree on Next Steps to Return Mar...</td>\n",
       "      <td>https://static.bc-edx.com/data/web/mars_news/i...</td>\n",
       "      <td>The agency’s Perseverance rover will establish...</td>\n",
       "      <td>2022-10-28</td>\n",
       "    </tr>\n",
       "    <tr>\n",
       "      <th>3</th>\n",
       "      <td>NASA's InSight Lander Detects Stunning Meteoro...</td>\n",
       "      <td>https://static.bc-edx.com/data/web/mars_news/i...</td>\n",
       "      <td>The agency’s lander felt the ground shake duri...</td>\n",
       "      <td>2022-10-27</td>\n",
       "    </tr>\n",
       "    <tr>\n",
       "      <th>4</th>\n",
       "      <td>NASA To Host Briefing on InSight, Mars Reconna...</td>\n",
       "      <td>https://static.bc-edx.com/data/web/mars_news/i...</td>\n",
       "      <td>Scientists from two Mars missions will discuss...</td>\n",
       "      <td>2022-10-21</td>\n",
       "    </tr>\n",
       "  </tbody>\n",
       "</table>\n",
       "</div>"
      ],
      "text/plain": [
       "                                               title  \\\n",
       "0  NASA's MAVEN Observes Martian Light Show Cause...   \n",
       "1  NASA Prepares to Say 'Farewell' to InSight Spa...   \n",
       "2  NASA and ESA Agree on Next Steps to Return Mar...   \n",
       "3  NASA's InSight Lander Detects Stunning Meteoro...   \n",
       "4  NASA To Host Briefing on InSight, Mars Reconna...   \n",
       "\n",
       "                                               image  \\\n",
       "0  https://static.bc-edx.com/data/web/mars_news/i...   \n",
       "1  https://static.bc-edx.com/data/web/mars_news/i...   \n",
       "2  https://static.bc-edx.com/data/web/mars_news/i...   \n",
       "3  https://static.bc-edx.com/data/web/mars_news/i...   \n",
       "4  https://static.bc-edx.com/data/web/mars_news/i...   \n",
       "\n",
       "                                             excerpt       date  \n",
       "0  For the first time in its eight years orbiting... 2022-11-09  \n",
       "1  A closer look at what goes into wrapping up th... 2022-11-01  \n",
       "2  The agency’s Perseverance rover will establish... 2022-10-28  \n",
       "3  The agency’s lander felt the ground shake duri... 2022-10-27  \n",
       "4  Scientists from two Mars missions will discuss... 2022-10-21  "
      ]
     },
     "execution_count": 31,
     "metadata": {},
     "output_type": "execute_result"
    }
   ],
   "source": [
    "#convert it to dataframe \n",
    "df = pd.DataFrame(rows)\n",
    "df[\"date\"] = pd.to_datetime(df[\"date\"])\n",
    "df.head()"
   ]
  },
  {
   "cell_type": "code",
   "execution_count": 33,
   "metadata": {},
   "outputs": [
    {
     "name": "stdout",
     "output_type": "stream",
     "text": [
      "<class 'pandas.core.frame.DataFrame'>\n",
      "RangeIndex: 15 entries, 0 to 14\n",
      "Data columns (total 4 columns):\n",
      " #   Column   Non-Null Count  Dtype         \n",
      "---  ------   --------------  -----         \n",
      " 0   title    15 non-null     object        \n",
      " 1   image    15 non-null     object        \n",
      " 2   excerpt  15 non-null     object        \n",
      " 3   date     15 non-null     datetime64[ns]\n",
      "dtypes: datetime64[ns](1), object(3)\n",
      "memory usage: 612.0+ bytes\n"
     ]
    }
   ],
   "source": [
    " # Print the list to confirm success\n",
    "df.info()"
   ]
  },
  {
   "cell_type": "code",
   "execution_count": 35,
   "metadata": {},
   "outputs": [
    {
     "data": {
      "text/plain": [
       "[{'title': \"NASA's MAVEN Observes Martian Light Show Caused by Major Solar Storm\",\n",
       "  'image': 'https://static.bc-edx.com/data/web/mars_news/images/9299_maven-vertical-limb-320x240.jpeg',\n",
       "  'excerpt': 'For the first time in its eight years orbiting Mars, NASA’s MAVEN mission witnessed two different types of ultraviolet aurorae simultaneously, the result of solar storms that began on Aug. 27.',\n",
       "  'date': 'November 9, 2022'},\n",
       " {'title': \"NASA Prepares to Say 'Farewell' to InSight Spacecraft\",\n",
       "  'image': 'https://static.bc-edx.com/data/web/mars_news/images/9292_PIA25287-320x240.jpeg',\n",
       "  'excerpt': 'A closer look at what goes into wrapping up the mission as the spacecraft’s power supply continues to dwindle.',\n",
       "  'date': 'November 1, 2022'},\n",
       " {'title': 'NASA and ESA Agree on Next Steps to Return Mars Samples to Earth',\n",
       "  'image': 'https://static.bc-edx.com/data/web/mars_news/images/9286_PIA25243-320x240.jpeg',\n",
       "  'excerpt': 'The agency’s Perseverance rover will establish the first sample depot on Mars.',\n",
       "  'date': 'October 28, 2022'},\n",
       " {'title': \"NASA's InSight Lander Detects Stunning Meteoroid Impact on Mars\",\n",
       "  'image': 'https://static.bc-edx.com/data/web/mars_news/images/9289_1-PIA25583320x240.jpeg',\n",
       "  'excerpt': 'The agency’s lander felt the ground shake during the impact while cameras aboard the Mars Reconnaissance Orbiter spotted the yawning new crater from space.',\n",
       "  'date': 'October 27, 2022'},\n",
       " {'title': 'NASA To Host Briefing on InSight, Mars Reconnaissance Orbiter Findings',\n",
       "  'image': 'https://static.bc-edx.com/data/web/mars_news/images/9284_1-PIA25287-320x240.jpeg',\n",
       "  'excerpt': 'Scientists from two Mars missions will discuss how they combined images and data for a major finding on the Red Planet.',\n",
       "  'date': 'October 21, 2022'},\n",
       " {'title': 'Why NASA Is Trying To Crash Land on Mars',\n",
       "  'image': 'https://static.bc-edx.com/data/web/mars_news/images/9283_1-Illustration-of-SHIELD-320x240.jpeg',\n",
       "  'excerpt': 'Like a car’s crumple zone, the experimental SHIELD lander is designed to absorb a hard impact.',\n",
       "  'date': 'October 20, 2022'},\n",
       " {'title': 'Curiosity Mars Rover Reaches Long-Awaited Salty Region',\n",
       "  'image': 'https://static.bc-edx.com/data/web/mars_news/images/9281_1-PIA25413-320x240.jpeg',\n",
       "  'excerpt': 'After years of climbing, the Mars rover has arrived at a special region believed to have formed as Mars’ climate was drying.',\n",
       "  'date': 'October 19, 2022'},\n",
       " {'title': 'Mars Mission Shields Up for Tests',\n",
       "  'image': 'https://static.bc-edx.com/data/web/mars_news/images/9276_PIA25337-320x240.jpeg',\n",
       "  'excerpt': 'Protecting Mars Sample Return spacecraft from micrometeorites requires high-caliber work.',\n",
       "  'date': 'October 12, 2022'},\n",
       " {'title': \"NASA's InSight Waits Out Dust Storm\",\n",
       "  'image': 'https://static.bc-edx.com/data/web/mars_news/images/9275_PIA25287-clean320x240.jpeg',\n",
       "  'excerpt': 'InSight’s team is taking steps to help the solar-powered lander continue operating for as long as possible.',\n",
       "  'date': 'October 7, 2022'},\n",
       " {'title': \"NASA's InSight 'Hears' Its First Meteoroid Impacts on Mars\",\n",
       "  'image': 'https://static.bc-edx.com/data/web/mars_news/images/9264_1-PIA25408-320x240.jpeg',\n",
       "  'excerpt': 'The Mars lander’s seismometer has picked up vibrations from four separate impacts in the past two years.',\n",
       "  'date': 'September 19, 2022'},\n",
       " {'title': \"NASA's Perseverance Rover Investigates Geologically Rich Mars Terrain\",\n",
       "  'image': 'https://static.bc-edx.com/data/web/mars_news/images/9261_26987_PIA24925_MAIN-320x240.jpeg',\n",
       "  'excerpt': 'The latest findings provide greater detail on a region of the Red Planet that has a watery past and is yielding promising samples for the NASA-ESA Mars Sample Return campaign.',\n",
       "  'date': 'September 15, 2022'},\n",
       " {'title': 'NASA to Host Briefing on Perseverance Mars Rover Mission Operations',\n",
       "  'image': 'https://static.bc-edx.com/data/web/mars_news/images/9257_PIA25325-320x240.jpeg',\n",
       "  'excerpt': 'Members of the mission will discuss the rover’s activities as it gathers samples in an ancient river delta.',\n",
       "  'date': 'September 12, 2022'},\n",
       " {'title': \"NASA's Perseverance Makes New Discoveries in Mars' Jezero Crater\",\n",
       "  'image': 'https://static.bc-edx.com/data/web/mars_news/images/9252_1-PIA24836_Perseverance_Selfie_at_Rochette-320x240.jpeg',\n",
       "  'excerpt': 'The rover found that Jezero Crater’s floor is made up of volcanic rocks that have interacted with water.',\n",
       "  'date': 'August 25, 2022'},\n",
       " {'title': \"10 Years Since Landing, NASA's Curiosity Mars Rover Still Has Drive\",\n",
       "  'image': 'https://static.bc-edx.com/data/web/mars_news/images/9240_1-PIA25407-Curiositys-360-Degree-Panorama-of-Avanaro-320x240.jpeg',\n",
       "  'excerpt': 'Despite signs of wear, the intrepid spacecraft is about to start an exciting new chapter of its mission as it climbs a Martian mountain.',\n",
       "  'date': 'August 5, 2022'},\n",
       " {'title': \"SAM's Top 5 Discoveries Aboard NASA's Curiosity Rover at Mars\",\n",
       "  'image': 'https://static.bc-edx.com/data/web/mars_news/images/9239_article_pictures2_jpeg-320x240.jpeg',\n",
       "  'excerpt': '“Selfie” of the Curiosity rover with inset showing the SAM instrument prior to installation on the rover.',\n",
       "  'date': 'August 4, 2022'}]"
      ]
     },
     "execution_count": 35,
     "metadata": {},
     "output_type": "execute_result"
    }
   ],
   "source": [
    "rows[0:15]"
   ]
  },
  {
   "cell_type": "code",
   "execution_count": 37,
   "metadata": {},
   "outputs": [],
   "source": [
    "browser.quit()"
   ]
  },
  {
   "cell_type": "code",
   "execution_count": null,
   "metadata": {},
   "outputs": [],
   "source": []
  }
 ],
 "metadata": {
  "kernelspec": {
   "display_name": "Python 3 (ipykernel)",
   "language": "python",
   "name": "python3"
  },
  "language_info": {
   "codemirror_mode": {
    "name": "ipython",
    "version": 3
   },
   "file_extension": ".py",
   "mimetype": "text/x-python",
   "name": "python",
   "nbconvert_exporter": "python",
   "pygments_lexer": "ipython3",
   "version": "3.12.4"
  },
  "vscode": {
   "interpreter": {
    "hash": "31f2aee4e71d21fbe5cf8b01ff0e069b9275f58929596ceb00d14d90e3e16cd6"
   }
  }
 },
 "nbformat": 4,
 "nbformat_minor": 4
}
